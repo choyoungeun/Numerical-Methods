{
  "nbformat": 4,
  "nbformat_minor": 0,
  "metadata": {
    "colab": {
      "provenance": [],
      "collapsed_sections": []
    },
    "kernelspec": {
      "name": "python3",
      "display_name": "Python 3"
    },
    "language_info": {
      "name": "python"
    }
  },
  "cells": [
    {
      "cell_type": "code",
      "execution_count": null,
      "metadata": {
        "colab": {
          "base_uri": "https://localhost:8080/"
        },
        "id": "lmmjpWcb-BDq",
        "outputId": "d9c8265d-1ce3-4d86-a4ab-aaf5f792d503"
      },
      "outputs": [
        {
          "output_type": "stream",
          "name": "stdout",
          "text": [
            "1번째 입력값: E의 지수, 2번째 입력값: Exp() 오차범위, 3번째 입력값: 최대 loop 횟수\n",
            "▶1\n",
            "▶1e-6\n",
            "▶100\n",
            "val =  2.718281826198493\n",
            "ea =  9.216155641522974e-07\n",
            "iter =  12\n",
            "\n",
            "trueval =  2.718281828459045\n",
            "et =  8.316106763523326e-08\n"
          ]
        }
      ],
      "source": [
        "import math as mt\n",
        "\n",
        "def IterMeth(val, es, maxit):\n",
        "  iter = 1\n",
        "  cur = val\n",
        "  ea = 100\n",
        "\n",
        "  while iter < maxit and ea > es:\n",
        "    pre = cur\n",
        "    cur += mt.pow(val, iter) / mt.factorial(iter)\n",
        "    iter += 1\n",
        "    if cur != 0:\n",
        "      ea = ((cur - pre) / cur) * 100\n",
        "\n",
        "  return cur,ea,iter\n",
        "\n",
        "print(\"1번째 입력값: E의 지수, 2번째 입력값: Exp() 오차범위, 3번째 입력값: 최대 loop 횟수\")\n",
        "#지수\n",
        "val1 = float(input(\"▶\"))\n",
        "#오차범위\n",
        "es = float(input(\"▶\"))\n",
        "#max loop\n",
        "maxit = float(input(\"▶\"))\n",
        "\n",
        "[val, ea, iter] = IterMeth(val1, es, maxit)\n",
        "\n",
        "print(\"val = \",val)\n",
        "print(\"ea = \",ea)\n",
        "print(\"iter = \",iter)\n",
        "\n",
        "trueval = mt.exp(val1)\n",
        "print(\"\\ntrueval = \",trueval)\n",
        "et = abs((trueval - val)/trueval)*100\n",
        "print(\"et = \",et)"
      ]
    },
    {
      "cell_type": "code",
      "source": [],
      "metadata": {
        "id": "HFOo8gAU-_RN"
      },
      "execution_count": null,
      "outputs": []
    }
  ]
}