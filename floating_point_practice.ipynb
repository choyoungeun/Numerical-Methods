{
  "nbformat": 4,
  "nbformat_minor": 0,
  "metadata": {
    "colab": {
      "provenance": [],
      "include_colab_link": true
    },
    "kernelspec": {
      "name": "python3",
      "display_name": "Python 3"
    },
    "language_info": {
      "name": "python"
    }
  },
  "cells": [
    {
      "cell_type": "markdown",
      "metadata": {
        "id": "view-in-github",
        "colab_type": "text"
      },
      "source": [
        "<a href=\"https://colab.research.google.com/github/choyoungeun/Numerical-Methods/blob/main/floating_point_practice.ipynb\" target=\"_parent\"><img src=\"https://colab.research.google.com/assets/colab-badge.svg\" alt=\"Open In Colab\"/></a>"
      ]
    },
    {
      "cell_type": "markdown",
      "metadata": {
        "id": "a1smQDPyPye7"
      },
      "source": [
        "컴퓨터에서 실수는 주의해서 다루어야 한다.\n",
        "\n",
        "---\n",
        "\n"
      ]
    },
    {
      "cell_type": "code",
      "metadata": {
        "colab": {
          "base_uri": "https://localhost:8080/",
          "height": 35
        },
        "id": "zm6MqDBbTyE3",
        "outputId": "34e24de5-4f84-4af3-9d22-3af2ed47c129"
      },
      "source": [
        "%precision %r\n"
      ],
      "execution_count": null,
      "outputs": [
        {
          "output_type": "execute_result",
          "data": {
            "text/plain": [
              "'%r'"
            ],
            "application/vnd.google.colaboratory.intrinsic+json": {
              "type": "string"
            }
          },
          "metadata": {},
          "execution_count": 38
        }
      ]
    },
    {
      "cell_type": "code",
      "metadata": {
        "colab": {
          "base_uri": "https://localhost:8080/"
        },
        "id": "z6BukBIPUTdo",
        "outputId": "dbf95299-0ec2-4267-9282-f3f6c9a2c3a1"
      },
      "source": [
        "1."
      ],
      "execution_count": null,
      "outputs": [
        {
          "output_type": "execute_result",
          "data": {
            "text/plain": [
              "1.0"
            ]
          },
          "metadata": {},
          "execution_count": 39
        }
      ]
    },
    {
      "cell_type": "code",
      "metadata": {
        "colab": {
          "base_uri": "https://localhost:8080/"
        },
        "id": "sqe63HY-UWLq",
        "outputId": "9c1789b6-4b29-47aa-b6bc-018d6af2de8a"
      },
      "source": [
        "1.e-5"
      ],
      "execution_count": null,
      "outputs": [
        {
          "output_type": "execute_result",
          "data": {
            "text/plain": [
              "1e-05"
            ]
          },
          "metadata": {},
          "execution_count": 40
        }
      ]
    },
    {
      "cell_type": "code",
      "metadata": {
        "id": "GPQQCGgmUoyg",
        "colab": {
          "base_uri": "https://localhost:8080/"
        },
        "outputId": "a75dcbfe-0e07-4d9c-d5ab-2134a2ab3ef0"
      },
      "source": [
        "a=0.01\n",
        "result=0.0\n",
        "for i in range(100) :\n",
        "  result += a;\n",
        "\n",
        "a, result"
      ],
      "execution_count": null,
      "outputs": [
        {
          "output_type": "execute_result",
          "data": {
            "text/plain": [
              "(0.01, 1.0000000000000007)"
            ]
          },
          "metadata": {},
          "execution_count": 41
        }
      ]
    },
    {
      "cell_type": "code",
      "metadata": {
        "colab": {
          "base_uri": "https://localhost:8080/"
        },
        "id": "Gq9LFtQXdA4T",
        "outputId": "b0031a9f-4586-4706-97d8-4c43b99c5daf"
      },
      "source": [
        "a=0.015625\n",
        "result=0.0\n",
        "for i in range(100) :\n",
        "  result += a\n",
        "\n",
        "result"
      ],
      "execution_count": null,
      "outputs": [
        {
          "output_type": "execute_result",
          "data": {
            "text/plain": [
              "1.5625"
            ]
          },
          "metadata": {},
          "execution_count": 42
        }
      ]
    },
    {
      "cell_type": "code",
      "source": [
        "0.1 + 0.2"
      ],
      "metadata": {
        "colab": {
          "base_uri": "https://localhost:8080/"
        },
        "id": "7ioWdxPEhcqI",
        "outputId": "5b8ecc92-d835-4b40-de74-21e2fd956fc1"
      },
      "execution_count": null,
      "outputs": [
        {
          "output_type": "execute_result",
          "data": {
            "text/plain": [
              "0.30000000000000004"
            ]
          },
          "metadata": {},
          "execution_count": 43
        }
      ]
    },
    {
      "cell_type": "code",
      "source": [
        "%precision 55\n",
        "a = 0.01\n",
        "a"
      ],
      "metadata": {
        "colab": {
          "base_uri": "https://localhost:8080/"
        },
        "id": "_ArkUeo8iZle",
        "outputId": "a40d7b26-1692-42ac-e28a-37d1476a0579"
      },
      "execution_count": null,
      "outputs": [
        {
          "output_type": "execute_result",
          "data": {
            "text/plain": [
              "0.0100000000000000002081668171172168513294309377670288086"
            ]
          },
          "metadata": {},
          "execution_count": 44
        }
      ]
    },
    {
      "cell_type": "code",
      "metadata": {
        "id": "7OvI4x1sYP2R",
        "colab": {
          "base_uri": "https://localhost:8080/"
        },
        "outputId": "db4d804a-a110-4c4e-9ce1-3e31345248ed"
      },
      "source": [
        "0.1 + 0.2 == 0.3"
      ],
      "execution_count": null,
      "outputs": [
        {
          "output_type": "execute_result",
          "data": {
            "text/plain": [
              "False"
            ]
          },
          "metadata": {},
          "execution_count": 32
        }
      ]
    },
    {
      "cell_type": "code",
      "metadata": {
        "colab": {
          "base_uri": "https://localhost:8080/"
        },
        "id": "az4igrekHxHN",
        "outputId": "713c8b46-b570-43a2-e5c6-43e2cf2d7391"
      },
      "source": [
        "0.1+0.2"
      ],
      "execution_count": null,
      "outputs": [
        {
          "output_type": "execute_result",
          "data": {
            "text/plain": [
              "0.3000000000000000444089209850062616169452667236328125000"
            ]
          },
          "metadata": {},
          "execution_count": 33
        }
      ]
    },
    {
      "cell_type": "code",
      "metadata": {
        "colab": {
          "base_uri": "https://localhost:8080/"
        },
        "id": "226B0Eu_H0xZ",
        "outputId": "cc51b8da-de12-4f3f-956e-4dde285f2535"
      },
      "source": [
        "0.3"
      ],
      "execution_count": null,
      "outputs": [
        {
          "output_type": "execute_result",
          "data": {
            "text/plain": [
              "0.2999999999999999888977697537484345957636833190917968750"
            ]
          },
          "metadata": {},
          "execution_count": 34
        }
      ]
    },
    {
      "cell_type": "code",
      "metadata": {
        "colab": {
          "base_uri": "https://localhost:8080/"
        },
        "id": "t2t05sLWAh3B",
        "outputId": "fa744d52-f952-427b-9414-0556e162bf22"
      },
      "source": [
        "%precision 55\n",
        "0.3"
      ],
      "execution_count": null,
      "outputs": [
        {
          "output_type": "execute_result",
          "data": {
            "text/plain": [
              "0.2999999999999999888977697537484345957636833190917968750"
            ]
          },
          "metadata": {},
          "execution_count": 49
        }
      ]
    },
    {
      "cell_type": "markdown",
      "metadata": {
        "id": "v4VQABpbQCkL"
      },
      "source": [
        "0.3 이 컴퓨터에서 0.2999999999999999888977697537484345957636833190917968750 으로 저장되지만, 반올림하여 0.3으로 표시될뿐..."
      ]
    },
    {
      "cell_type": "code",
      "metadata": {
        "colab": {
          "base_uri": "https://localhost:8080/"
        },
        "id": "h0BPL1QxFu-v",
        "outputId": "6d945b23-145a-422d-d40d-76ce6f2ba8b6"
      },
      "source": [
        "%precision %r\n",
        "0.1"
      ],
      "execution_count": null,
      "outputs": [
        {
          "output_type": "execute_result",
          "data": {
            "text/plain": [
              "0.1"
            ]
          },
          "metadata": {},
          "execution_count": 39
        }
      ]
    },
    {
      "cell_type": "code",
      "metadata": {
        "id": "Z7Bb8sg4PbOx",
        "colab": {
          "base_uri": "https://localhost:8080/"
        },
        "outputId": "8506d157-4916-47bf-cbcc-474e8b675d42"
      },
      "source": [
        "0.3\n"
      ],
      "execution_count": null,
      "outputs": [
        {
          "output_type": "execute_result",
          "data": {
            "text/plain": [
              "0.3"
            ]
          },
          "metadata": {},
          "execution_count": 41
        }
      ]
    },
    {
      "cell_type": "code",
      "metadata": {
        "id": "Gc4FFwRfO689",
        "colab": {
          "base_uri": "https://localhost:8080/"
        },
        "outputId": "e2b1aa53-8964-4e2e-a171-a9c6d17addf0"
      },
      "source": [
        "import sys;\n",
        "\n",
        "print(sys.float_info)\n",
        "\n",
        "max=sys.float_info.max\n",
        "min=sys.float_info.min\n",
        "print(min)\n",
        "print(max);"
      ],
      "execution_count": null,
      "outputs": [
        {
          "output_type": "stream",
          "name": "stdout",
          "text": [
            "sys.float_info(max=1.7976931348623157e+308, max_exp=1024, max_10_exp=308, min=2.2250738585072014e-308, min_exp=-1021, min_10_exp=-307, dig=15, mant_dig=53, epsilon=2.220446049250313e-16, radix=2, rounds=1)\n",
            "2.2250738585072014e-308\n",
            "1.7976931348623157e+308\n"
          ]
        }
      ]
    },
    {
      "cell_type": "code",
      "metadata": {
        "colab": {
          "base_uri": "https://localhost:8080/"
        },
        "id": "gw7jYMI0AKCl",
        "outputId": "c936e774-e1fb-466d-ac69-34170f3ca409"
      },
      "source": [
        "value = 60\n",
        "\n",
        "b_val = bin(value);\n",
        "o_val = oct(value);\n",
        "h_val = hex(value);\n",
        "\n",
        "print(b_val);\n",
        "print(o_val);\n",
        "print(h_val);"
      ],
      "execution_count": null,
      "outputs": [
        {
          "output_type": "stream",
          "name": "stdout",
          "text": [
            "0b111100\n",
            "0o74\n",
            "0x3c\n"
          ]
        }
      ]
    },
    {
      "cell_type": "code",
      "metadata": {
        "colab": {
          "base_uri": "https://localhost:8080/"
        },
        "id": "6SAWhpPkUur1",
        "outputId": "ff50367d-c420-408b-9bff-271dbe6f5a85"
      },
      "source": [
        "x1=0.00001;\n",
        "x2=1.e-5;\n",
        "\n",
        "sum1=0.;\n",
        "sum2=0.;\n",
        "i=0;\n",
        "\n",
        "while i < 100000 :\n",
        "  i=i+1;\n",
        "  sum1=sum1+x1;\n",
        "  sum2=sum2+x2;\n",
        "\n",
        "print(sum1);\n",
        "print(sum2);\n"
      ],
      "execution_count": null,
      "outputs": [
        {
          "output_type": "stream",
          "name": "stdout",
          "text": [
            "0.9999999999980838\n",
            "0.9999999999980838\n"
          ]
        }
      ]
    },
    {
      "cell_type": "markdown",
      "source": [
        "**Epsillon 값의 변화를 살펴보자**"
      ],
      "metadata": {
        "id": "a6e_swMLgZGd"
      }
    },
    {
      "cell_type": "code",
      "metadata": {
        "colab": {
          "base_uri": "https://localhost:8080/"
        },
        "id": "X5Vvv2Qhbdi0",
        "outputId": "be443bd4-4245-490b-83a6-3fca1ee7cff7"
      },
      "source": [
        "ep = 1\n",
        "num = 4;\n",
        "while True:\n",
        "  if ep + num <= num : break;\n",
        "  ep = ep / 2\n",
        "\n",
        "ep = 2 * ep;\n",
        "print(\"EP = \", ep);\n"
      ],
      "execution_count": null,
      "outputs": [
        {
          "output_type": "stream",
          "name": "stdout",
          "text": [
            "EP =  8.881784197001252e-16\n"
          ]
        }
      ]
    },
    {
      "cell_type": "code",
      "metadata": {
        "id": "nUcY9vAAYTnp",
        "colab": {
          "base_uri": "https://localhost:8080/"
        },
        "outputId": "919a39fc-cb27-4143-e4b0-422faeb40a51"
      },
      "source": [
        "import sys;\n",
        "ep = sys.float_info.epsilon;\n",
        "a=9.25\n",
        "diff=(2**3)*ep;\n",
        "print(\"9.25 다음 표현 가능한 숫자는 최소 얼마만큼 증가해야 하는가?(최소 증가수) \", diff);\n",
        "\n",
        "b=a+diff;\n",
        "print(\"따라서, 9.25 다음 수는 : \", b);\n",
        "\n",
        "half_diff=diff / 2;\n",
        "print(\"Half_Diff \",  half_diff)\n",
        "c=a+half_diff\n",
        "print(\"최소 증가수가 안되는 수를 더해봐야 변하지 않는다. \", c)\n",
        "\n",
        "d = 3.99 + ep;\n",
        "print(\"3.99 + ep >> \", d)\n",
        "\n",
        "aa = (2.0)**53\n",
        "print(\"aa값은 \", aa)\n",
        "print(\"aa의 엡실론 값은 \", aa * ep)\n",
        "\n",
        "bb=aa+1.0\n",
        "print(\"aa에 1.0을 더한 값은 \", bb)\n",
        "\n"
      ],
      "execution_count": null,
      "outputs": [
        {
          "output_type": "stream",
          "name": "stdout",
          "text": [
            "9.25 다음 표현 가능한 숫자는 최소 얼마만큼 증가해야 하는가?(최소 증가수)  1.7763568394002505e-15\n",
            "따라서, 9.25 다음 수는 :  9.250000000000002\n",
            "Half_Diff  8.881784197001252e-16\n",
            "최소 증가수가 안되는 수를 더해봐야 변하지 않는다.  9.25\n",
            "3.99 + ep >>  3.99\n",
            "aa값은  9007199254740992.0\n",
            "aa다음 값은  2.0\n",
            "aa에 1.0을 더한 값은  9007199254740992.0\n"
          ]
        }
      ]
    },
    {
      "cell_type": "code",
      "source": [],
      "metadata": {
        "id": "oaEOm50RhqEn"
      },
      "execution_count": null,
      "outputs": []
    }
  ]
}